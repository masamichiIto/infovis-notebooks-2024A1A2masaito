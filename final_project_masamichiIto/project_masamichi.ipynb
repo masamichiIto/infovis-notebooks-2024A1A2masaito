{
 "cells": [
  {
   "cell_type": "code",
   "execution_count": 1,
   "metadata": {},
   "outputs": [],
   "source": [
    "import numpy as np\n",
    "import pandas as pd\n",
    "import spacy"
   ]
  },
  {
   "attachments": {},
   "cell_type": "markdown",
   "metadata": {},
   "source": [
    "## 何をやるかの雑多なブレストのメモ\n",
    "- これまでの講義で面白そうに感じたこと\n",
    "  - altairでの手続きを記述していくことでの可視化\n",
    "  - spacyでテキストを処理して，それを可視化すること\n",
    "  - -->面白そうに感じたことをさらに身につけるために使ってみる\n",
    "    - 今回はテキストの可視化をしよう．1to1マーケを行う際のペルソナ描画にも使えそうな気がする．\n",
    "\n",
    "- 可視化の際の問いの設定\n",
    "  - お手本である演習のファイルを参考にするなら，青空文庫など適当な著作権切れの小説の内容の可視化+そこから言えることを見つけていく → 見つけていく中で主張をクリアにするための仮説構築と提示すべき情報の取捨選択を繰り返していけば良いのか．\n",
    "    - 青空文庫の中で，目についた本かつ（読んだことはないが）内容をうっすら知っている本が良い\n",
    "      - 内容を全く知らない場合にも限られた時間の範囲で読めるくらいの分量の本が良いね\n",
    "        - https://search.bungo.app/authors/296/categories/short/books/46734\n",
    "          - ↑とかは教育学っぽくて面白そう\n",
    "          - 論拠の整理と著者の使う単語・コロケーションの癖とかみる？\n",
    "            - 癖を見るためには1文献だけだとサンプルサイズ少なすぎて何も言えないでしょ，，\n",
    "- 講義の中で引き合いに出てきたデータ可視化のプロセス（参考）\n",
    "  - https://infovis.zhuxinru.com/images/week_10/dataviz_process.png\n"
   ]
  },
  {
   "cell_type": "code",
   "execution_count": null,
   "metadata": {},
   "outputs": [],
   "source": []
  }
 ],
 "metadata": {
  "kernelspec": {
   "display_name": ".venv",
   "language": "python",
   "name": "python3"
  },
  "language_info": {
   "codemirror_mode": {
    "name": "ipython",
    "version": 3
   },
   "file_extension": ".py",
   "mimetype": "text/x-python",
   "name": "python",
   "nbconvert_exporter": "python",
   "pygments_lexer": "ipython3",
   "version": "3.12.4"
  },
  "orig_nbformat": 4
 },
 "nbformat": 4,
 "nbformat_minor": 2
}
